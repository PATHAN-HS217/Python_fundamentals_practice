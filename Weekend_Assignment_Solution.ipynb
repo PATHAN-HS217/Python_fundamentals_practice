{
 "cells": [
  {
   "cell_type": "markdown",
   "metadata": {},
   "source": [
    "# Weekend Assignment:\n",
    "\n",
    "#Python Fundamentals:"
   ]
  },
  {
   "cell_type": "code",
   "execution_count": null,
   "metadata": {},
   "outputs": [],
   "source": [
    "problem statment1:\n",
    "\n",
    "City Names: \n",
    "\n",
    "Write a function called city_country() that takes in the name\n",
    "of a city and its country. The function should return a string formatted like this:\n",
    "\"Santiago, Chile\"\n",
    "Call your function with at least three city-country pairs, and print the\n",
    "values that are returned.\n",
    "\n",
    "Problem statment : 2\n",
    "concept : arbitary arguments\n",
    "\n",
    "Sandwiches: Write a function that accepts a list of items a person wants\n",
    "on a sandwich. The function should have one parameter that collects as many\n",
    "items as the function call provides, and it should print a summary of the sandwich that’s being ordered.\n",
    " Call the function three times, using a different number of arguments each time.\n",
    "\n",
    "problem statment 3:\n",
    "\n",
    "9-1. Restaurant: Make a class called Restaurant. The __init__() method for\n",
    "Restaurant should store two attributes: a restaurant_name and a cuisine_type.\n",
    "Make a method called describe_restaurant() that prints these two pieces of\n",
    "information, and a method called open_restaurant() that prints a message indicating that the restaurant is open.\n",
    "Make an instance called restaurant from your class. Print the two attributes individually, and then call both methods.\n",
    "\n",
    "9-2. Three Restaurants: Start with your class from Exercise 9-1. Create three\n",
    "different instances from the class, and call describe_restaurant() for each\n",
    "instance.\n",
    "\n",
    "9-3. Users: Make a class called User. Create two attributes called first_name\n",
    "and last_name, and then create several other attributes that are typically stored\n",
    "in a user profile. Make a method called describe_user() that prints a summary\n",
    "of the user’s information. Make another method called greet_user() that prints\n",
    "a personalized greeting to the user.\n",
    "Create several instances representing different users, and call both methods\n",
    "for each user.\n"
   ]
  },
  {
   "cell_type": "code",
   "execution_count": null,
   "metadata": {},
   "outputs": [],
   "source": [
    "#Assignment Q. 1:"
   ]
  },
  {
   "cell_type": "code",
   "execution_count": 2,
   "metadata": {},
   "outputs": [],
   "source": [
    "def city_country(city,country):\n",
    "    print(f\"{city.title()}, {country.title()}\")"
   ]
  },
  {
   "cell_type": "code",
   "execution_count": 3,
   "metadata": {},
   "outputs": [
    {
     "name": "stdout",
     "output_type": "stream",
     "text": [
      "Santiago, Chile\n"
     ]
    }
   ],
   "source": [
    "x = city_country('Santiago','chile')"
   ]
  },
  {
   "cell_type": "code",
   "execution_count": 5,
   "metadata": {},
   "outputs": [
    {
     "name": "stdout",
     "output_type": "stream",
     "text": [
      "Mumbai, India\n"
     ]
    }
   ],
   "source": [
    "x = city_country('mumbai','india')"
   ]
  },
  {
   "cell_type": "code",
   "execution_count": 8,
   "metadata": {
    "scrolled": true
   },
   "outputs": [
    {
     "name": "stdout",
     "output_type": "stream",
     "text": [
      "Tokyo, Japan\n"
     ]
    }
   ],
   "source": [
    "x = city_country('tokyo','japan')"
   ]
  },
  {
   "cell_type": "markdown",
   "metadata": {},
   "source": [
    "---"
   ]
  },
  {
   "cell_type": "code",
   "execution_count": 18,
   "metadata": {},
   "outputs": [],
   "source": [
    "#Assignment Q. 2:"
   ]
  },
  {
   "cell_type": "code",
   "execution_count": 12,
   "metadata": {},
   "outputs": [],
   "source": [
    "def sandwich(*items):\n",
    "    print(items)"
   ]
  },
  {
   "cell_type": "code",
   "execution_count": 16,
   "metadata": {},
   "outputs": [
    {
     "name": "stdout",
     "output_type": "stream",
     "text": [
      "('corn', 'cheese')\n"
     ]
    }
   ],
   "source": [
    "sandwich('corn','cheese')"
   ]
  },
  {
   "cell_type": "code",
   "execution_count": 14,
   "metadata": {},
   "outputs": [
    {
     "name": "stdout",
     "output_type": "stream",
     "text": [
      "('tomato', 'cucumber', 'onion')\n"
     ]
    }
   ],
   "source": [
    "sandwich('tomato','cucumber','onion')"
   ]
  },
  {
   "cell_type": "code",
   "execution_count": 17,
   "metadata": {},
   "outputs": [
    {
     "name": "stdout",
     "output_type": "stream",
     "text": [
      "('chocolate',)\n"
     ]
    }
   ],
   "source": [
    "sandwich('chocolate')"
   ]
  },
  {
   "cell_type": "markdown",
   "metadata": {},
   "source": [
    "---"
   ]
  },
  {
   "cell_type": "code",
   "execution_count": null,
   "metadata": {},
   "outputs": [],
   "source": [
    "#Assignment Q. 3: (9-1)"
   ]
  },
  {
   "cell_type": "code",
   "execution_count": 35,
   "metadata": {},
   "outputs": [],
   "source": [
    "class Restaurant:\n",
    "    def __init__(self,restaurant_name,cuisine_name):\n",
    "        self.restaurant_name = restaurant_name\n",
    "        self.cuisine_name = cuisine_name\n",
    "        \n",
    "    def describe_restaurant(self):\n",
    "        print(f\"Restaurant name is: {self.restaurant_name.title()}\\nFamous for: {self.cuisine_name.title()}\")\n",
    "        \n",
    "    def open_restaurant(self):\n",
    "        print(f\"{self.restaurant_name.title()} is open.\")"
   ]
  },
  {
   "cell_type": "code",
   "execution_count": 36,
   "metadata": {},
   "outputs": [],
   "source": [
    "restaurant = Restaurant('rasoi','biryani')"
   ]
  },
  {
   "cell_type": "code",
   "execution_count": 37,
   "metadata": {},
   "outputs": [
    {
     "name": "stdout",
     "output_type": "stream",
     "text": [
      "Restaurant name is: Rasoi\n",
      "Famous for: Biryani\n"
     ]
    }
   ],
   "source": [
    "restaurant.describe_restaurant()"
   ]
  },
  {
   "cell_type": "code",
   "execution_count": 38,
   "metadata": {},
   "outputs": [
    {
     "name": "stdout",
     "output_type": "stream",
     "text": [
      "Rasoi is open.\n"
     ]
    }
   ],
   "source": [
    "restaurant.open_restaurant()"
   ]
  },
  {
   "cell_type": "markdown",
   "metadata": {},
   "source": [
    "---"
   ]
  },
  {
   "cell_type": "code",
   "execution_count": null,
   "metadata": {},
   "outputs": [],
   "source": [
    "# Assignment Q. 3: (9-2)"
   ]
  },
  {
   "cell_type": "code",
   "execution_count": 40,
   "metadata": {},
   "outputs": [],
   "source": [
    "res1 = Restaurant('Gokul','dal makhani')\n",
    "res2 = Restaurant('gulzar','chiken tikka')\n",
    "res3 = Restaurant('Jazira','chilli paneer')"
   ]
  },
  {
   "cell_type": "code",
   "execution_count": 41,
   "metadata": {
    "scrolled": true
   },
   "outputs": [
    {
     "name": "stdout",
     "output_type": "stream",
     "text": [
      "Restaurant name is: Gokul\n",
      "Famous for: Dal Makhani\n"
     ]
    }
   ],
   "source": [
    "res1.describe_restaurant()"
   ]
  },
  {
   "cell_type": "code",
   "execution_count": 42,
   "metadata": {},
   "outputs": [
    {
     "name": "stdout",
     "output_type": "stream",
     "text": [
      "Restaurant name is: Gulzar\n",
      "Famous for: Chiken Tikka\n"
     ]
    }
   ],
   "source": [
    "res2.describe_restaurant()"
   ]
  },
  {
   "cell_type": "code",
   "execution_count": 43,
   "metadata": {},
   "outputs": [
    {
     "name": "stdout",
     "output_type": "stream",
     "text": [
      "Restaurant name is: Jazira\n",
      "Famous for: Chilli Paneer\n"
     ]
    }
   ],
   "source": [
    "res3.describe_restaurant()"
   ]
  },
  {
   "cell_type": "markdown",
   "metadata": {},
   "source": [
    "---"
   ]
  },
  {
   "cell_type": "code",
   "execution_count": null,
   "metadata": {},
   "outputs": [],
   "source": [
    "# Assignment Q.3: (9-3)"
   ]
  },
  {
   "cell_type": "code",
   "execution_count": 67,
   "metadata": {},
   "outputs": [],
   "source": [
    "class User:\n",
    "    def __init__(self,first_name,last_name,age,location,profession):\n",
    "        self.first_name = first_name\n",
    "        self.last_name = last_name\n",
    "        self.age = age\n",
    "        self.location = location \n",
    "        self.profession = profession\n",
    "        \n",
    "    def describe_user(self):\n",
    "        #fullname = f\"{first_name}\"\n",
    "        #print(f\"Name: {self.first_name.title()} {self.last_name.title()}\\nAge: {self.age}\\nLocation: {self.location.title()}\\nProfession: {self.profession.title()}\")\n",
    "        print(f\"Name: {self.first_name.title()} {self.last_name.title()}\")\n",
    "        print(f\"Age: {self.age}\")\n",
    "        print(f\"Location: {self.location.title()}\")\n",
    "        print(f\"Profession: {self.profession.title()}\")\n",
    "        \n",
    "    def greet_user(self):\n",
    "        print(f\"Hello, {self.first_name.title()}!\")"
   ]
  },
  {
   "cell_type": "code",
   "execution_count": 68,
   "metadata": {},
   "outputs": [],
   "source": [
    "t = User('abc','xyz',22,'goa','doctor')"
   ]
  },
  {
   "cell_type": "code",
   "execution_count": 69,
   "metadata": {},
   "outputs": [
    {
     "name": "stdout",
     "output_type": "stream",
     "text": [
      "Name: Abc Xyz\n",
      "Age: 22\n",
      "Location: Goa\n",
      "Profession: Doctor\n"
     ]
    }
   ],
   "source": [
    "t.describe_user()"
   ]
  },
  {
   "cell_type": "code",
   "execution_count": 70,
   "metadata": {},
   "outputs": [
    {
     "name": "stdout",
     "output_type": "stream",
     "text": [
      "Hello, Abc!\n"
     ]
    }
   ],
   "source": [
    "t.greet_user()"
   ]
  },
  {
   "cell_type": "code",
   "execution_count": 71,
   "metadata": {},
   "outputs": [],
   "source": [
    "test1 = User('maria','jose',25,'pune','engineer')\n",
    "test2 = User('maryam','firdous',24,'bangalore','doctor')\n",
    "test3 = User('simran','kaur',22,'delhi','entreprenuer')\n",
    "test4 = User('sonam','sharma',23,'mumbai','architect')"
   ]
  },
  {
   "cell_type": "code",
   "execution_count": 72,
   "metadata": {},
   "outputs": [
    {
     "name": "stdout",
     "output_type": "stream",
     "text": [
      "Name: Maria Jose\n",
      "Age: 25\n",
      "Location: Pune\n",
      "Profession: Engineer\n",
      "Hello, Maria!\n"
     ]
    }
   ],
   "source": [
    "test1.describe_user()\n",
    "test1.greet_user()"
   ]
  },
  {
   "cell_type": "code",
   "execution_count": 73,
   "metadata": {},
   "outputs": [
    {
     "name": "stdout",
     "output_type": "stream",
     "text": [
      "Name: Maryam Firdous\n",
      "Age: 24\n",
      "Location: Bangalore\n",
      "Profession: Doctor\n",
      "Hello, Maryam!\n"
     ]
    }
   ],
   "source": [
    "test2.describe_user()\n",
    "test2.greet_user()"
   ]
  },
  {
   "cell_type": "code",
   "execution_count": 74,
   "metadata": {},
   "outputs": [
    {
     "name": "stdout",
     "output_type": "stream",
     "text": [
      "Name: Simran Kaur\n",
      "Age: 22\n",
      "Location: Delhi\n",
      "Profession: Entreprenuer\n",
      "Hello, Simran!\n"
     ]
    }
   ],
   "source": [
    "test3.describe_user()\n",
    "test3.greet_user()"
   ]
  },
  {
   "cell_type": "code",
   "execution_count": 75,
   "metadata": {},
   "outputs": [
    {
     "name": "stdout",
     "output_type": "stream",
     "text": [
      "Name: Sonam Sharma\n",
      "Age: 23\n",
      "Location: Mumbai\n",
      "Profession: Architect\n",
      "Hello, Sonam!\n"
     ]
    }
   ],
   "source": [
    "test4.describe_user()\n",
    "test4.greet_user()"
   ]
  },
  {
   "cell_type": "code",
   "execution_count": null,
   "metadata": {},
   "outputs": [],
   "source": []
  }
 ],
 "metadata": {
  "kernelspec": {
   "display_name": "Python 3",
   "language": "python",
   "name": "python3"
  },
  "language_info": {
   "codemirror_mode": {
    "name": "ipython",
    "version": 3
   },
   "file_extension": ".py",
   "mimetype": "text/x-python",
   "name": "python",
   "nbconvert_exporter": "python",
   "pygments_lexer": "ipython3",
   "version": "3.7.6"
  }
 },
 "nbformat": 4,
 "nbformat_minor": 4
}
